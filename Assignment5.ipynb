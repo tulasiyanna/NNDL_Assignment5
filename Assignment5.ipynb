{
  "nbformat": 4,
  "nbformat_minor": 0,
  "metadata": {
    "colab": {
      "provenance": []
    },
    "kernelspec": {
      "name": "python3",
      "display_name": "Python 3"
    },
    "language_info": {
      "name": "python"
    }
  },
  "cells": [
    {
      "cell_type": "code",
      "execution_count": 6,
      "metadata": {
        "colab": {
          "base_uri": "https://localhost:8080/"
        },
        "id": "Zia_cjchn3XI",
        "outputId": "01d6a326-e4d8-4cda-ce24-c9613bf29bf1"
      },
      "outputs": [
        {
          "output_type": "stream",
          "name": "stdout",
          "text": [
            "Drive already mounted at /content/gdrive; to attempt to forcibly remount, call drive.mount(\"/content/gdrive\", force_remount=True).\n",
            "291/291 - 52s - loss: 0.8245 - accuracy: 0.6449 - 52s/epoch - 179ms/step\n",
            "144/144 - 3s - loss: 0.7550 - accuracy: 0.6765 - 3s/epoch - 21ms/step\n",
            "0.7550472021102905\n",
            "0.6764962673187256\n",
            "['loss', 'accuracy']\n"
          ]
        }
      ],
      "source": [
        "import pandas as pd # data processing, CSV file I/O (e.g. pd.read_csv)\n",
        "from keras.preprocessing.text import Tokenizer #Tokenization\n",
        "from tensorflow.keras.preprocessing.sequence import pad_sequences#Add zeros or crop based on the length\n",
        "from keras.models import Sequential#Sequential Neural Network\n",
        "from keras.layers import Dense, Embedding, LSTM, SpatialDropout1D#For layers in Neural Network\n",
        "from matplotlib import pyplot\n",
        "from sklearn.model_selection import train_test_split#Package for splitting the data\n",
        "from keras.utils.np_utils import to_categorical#Package for conversion of categorical to Numerical\n",
        "import re#importing package for Regular expression operations\n",
        "\n",
        "from sklearn.preprocessing import LabelEncoder\n",
        "\n",
        "from google.colab import drive\n",
        "drive.mount('/content/gdrive')\n",
        "\n",
        "# Load the dataset as a Pandas DataFrame\n",
        "data = pd.read_csv('/content/gdrive/My Drive/Sentiment.csv')\n",
        "\n",
        "# Keeping only the neccessary columns\n",
        "data = data[['text','sentiment']]\n",
        "\n",
        "data['text'] = data['text'].apply(lambda x: x.lower())\n",
        "data['text'] = data['text'].apply((lambda x: re.sub('[^a-zA-z0-9\\s]', '', x)))\n",
        "\n",
        "for idx, row in data.iterrows():\n",
        "\n",
        "  #Removing Retweets\n",
        "    row[0] = row[0].replace('rt', ' ')\n",
        "\n",
        "max_fatures = 2000\n",
        "\n",
        "#Maximum words is 2000 to tokenize sentence\n",
        "tokenizer = Tokenizer(num_words=max_fatures, split=' ')\n",
        "tokenizer.fit_on_texts(data['text'].values)\n",
        "\n",
        "#taking values to feature matrix\n",
        "X = tokenizer.texts_to_sequences(data['text'].values)\n",
        "\n",
        "#Padding the feature matrix\n",
        "X = pad_sequences(X)\n",
        "\n",
        "embed_dim = 128#Dimension of the Embedded layer\n",
        "lstm_out = 196#Long short-term memory (LSTM) layer neurons\n",
        "\n",
        "def createmodel():\n",
        "    model = Sequential()#Sequential Neural Network\n",
        "    model.add(Embedding(max_fatures, embed_dim,input_length = X.shape[1]))#input dimension 2000 Neurons, output\n",
        "    model.add(LSTM(lstm_out, dropout=0.2, recurrent_dropout=0.2))#Drop out 20%, 196 output Neurons, recurrent dropout\n",
        "    model.add(Dense(3,activation='softmax'))#3 output neurons[positive, Neutral, Negative], softmax as activation\n",
        "    model.compile(loss = 'categorical_crossentropy', optimizer='adam',metrics = ['accuracy'])#Compiling the model\n",
        "    return model\n",
        "# print(model.summary())\n",
        "\n",
        "labelencoder = LabelEncoder()#Applying label Encoding on the label matrix\n",
        "integer_encoded = labelencoder.fit_transform(data['sentiment'])#fitting the model\n",
        "y = to_categorical(integer_encoded)\n",
        "X_train, X_test, Y_train, Y_test = train_test_split(X,y, test_size = 0.33, random_state = 42)\n",
        "\n",
        "batch_size = 32\n",
        "model = createmodel()#Function call to Sequential Neural Network\n",
        "model.fit(X_train, Y_train, epochs = 1, batch_size=batch_size, verbose = 2)\n",
        "score,acc = model.evaluate(X_test,Y_test,verbose=2,batch_size=batch_size) #evaluating the model\n",
        "print(score)\n",
        "print(acc)\n",
        "print(model.metrics_names)#metrics of the model\n"
      ]
    },
    {
      "cell_type": "code",
      "source": [
        "#1. Save the model and use the saved model to predict on new text data (ex, “A lot of good things are happening. We are respected again throughout the world, and that's a great thing.@realDonaldTrump”)\n",
        "\n",
        "model.save('sentimentAnalysis.h5') #Saving the model\n",
        "from keras.models import load_model #Importing the package for importing the saved model\n",
        "model= load_model('sentimentAnalysis.h5') #loading the saved model\n",
        "\n",
        "print(integer_encoded)\n",
        "print(data['sentiment'])"
      ],
      "metadata": {
        "colab": {
          "base_uri": "https://localhost:8080/"
        },
        "id": "HBcL2e8_teom",
        "outputId": "8f1af592-ee59-43fa-f85a-4b66fcc633be"
      },
      "execution_count": 7,
      "outputs": [
        {
          "output_type": "stream",
          "name": "stdout",
          "text": [
            "[1 2 1 ... 2 0 2]\n",
            "0         Neutral\n",
            "1        Positive\n",
            "2         Neutral\n",
            "3        Positive\n",
            "4        Positive\n",
            "           ...   \n",
            "13866    Negative\n",
            "13867    Positive\n",
            "13868    Positive\n",
            "13869    Negative\n",
            "13870    Positive\n",
            "Name: sentiment, Length: 13871, dtype: object\n"
          ]
        }
      ]
    },
    {
      "cell_type": "code",
      "source": [
        "# Predicting on the text data\n",
        "\n",
        "import numpy as np\n",
        "sentence = ['A lot of good things are happening. We are respected again throughout the world, and that is a great thing.@realDonaldTrump']\n",
        "sentence = tokenizer.texts_to_sequences(sentence) # Tokenizing the sentence\n",
        "sentence = pad_sequences(sentence, maxlen=28, dtype='int32', value=0) # Padding the sentence\n",
        "sentiment_probs = model.predict(sentence, batch_size=1, verbose=2)[0] # Predicting the sentence text\n",
        "sentiment = np.argmax(sentiment_probs)\n",
        "\n",
        "print(sentiment_probs)\n",
        "if sentiment == 0:\n",
        "    print(\"Neutral\")\n",
        "elif sentiment < 0:\n",
        "    print(\"Negative\")\n",
        "elif sentiment > 0:\n",
        "    print(\"Positive\")\n",
        "else:\n",
        "    print(\"Cannot be determined\")"
      ],
      "metadata": {
        "colab": {
          "base_uri": "https://localhost:8080/"
        },
        "id": "WCdUAe7Zt1FH",
        "outputId": "3da022f7-2071-4c0c-f61e-1bac9062f71b"
      },
      "execution_count": 9,
      "outputs": [
        {
          "output_type": "stream",
          "name": "stdout",
          "text": [
            "1/1 - 0s - 107ms/epoch - 107ms/step\n",
            "[0.6263405  0.16177209 0.2118874 ]\n",
            "Neutral\n"
          ]
        }
      ]
    },
    {
      "cell_type": "code",
      "source": [
        "#2. Apply GridSearchCV on the source code provided in the class\n",
        "\n",
        "from keras.wrappers.scikit_learn import KerasClassifier #importing Keras classifier\n",
        "from sklearn.model_selection import GridSearchCV #importing Grid search CV\n",
        "\n",
        "model = KerasClassifier(build_fn=createmodel,verbose=2) #initiating model to test performance by applying multiple hyper parameters\n",
        "batch_size= [10, 20, 40] #hyper parameter batch_size\n",
        "epochs = [1, 2] #hyper parameter no. of epochs\n",
        "param_grid= {'batch_size':batch_size, 'epochs':epochs} #creating dictionary for batch size, no. of epochs\n",
        "grid  = GridSearchCV(estimator=model, param_grid=param_grid) #Applying dictionary with hyper parameters\n",
        "\n",
        "grid_result= grid.fit(X_train,Y_train) #Fitting the model\n",
        "\n",
        "# summarize results\n",
        "print(\"Best: %f using %s\" % (grid_result.best_score_, grid_result.best_params_)) #best score, best hyper parameters"
      ],
      "metadata": {
        "colab": {
          "base_uri": "https://localhost:8080/"
        },
        "id": "FjIeC0gtuXFn",
        "outputId": "534a35f9-f0ea-46c1-de1d-d7af87c9065e"
      },
      "execution_count": 10,
      "outputs": [
        {
          "output_type": "stream",
          "name": "stderr",
          "text": [
            "<ipython-input-10-7e316dc5024d>:6: DeprecationWarning: KerasClassifier is deprecated, use Sci-Keras (https://github.com/adriangb/scikeras) instead. See https://www.adriangb.com/scikeras/stable/migration.html for help migrating.\n",
            "  model = KerasClassifier(build_fn=createmodel,verbose=2) #initiating model to test performance by applying multiple hyper parameters\n"
          ]
        },
        {
          "output_type": "stream",
          "name": "stdout",
          "text": [
            "744/744 - 106s - loss: 0.8242 - accuracy: 0.6503 - 106s/epoch - 142ms/step\n",
            "186/186 - 3s - loss: 0.7687 - accuracy: 0.6654 - 3s/epoch - 18ms/step\n",
            "744/744 - 103s - loss: 0.8196 - accuracy: 0.6476 - 103s/epoch - 139ms/step\n",
            "186/186 - 3s - loss: 0.7717 - accuracy: 0.6767 - 3s/epoch - 17ms/step\n",
            "744/744 - 102s - loss: 0.8247 - accuracy: 0.6458 - 102s/epoch - 137ms/step\n",
            "186/186 - 3s - loss: 0.7555 - accuracy: 0.6789 - 3s/epoch - 15ms/step\n",
            "744/744 - 104s - loss: 0.8249 - accuracy: 0.6445 - 104s/epoch - 140ms/step\n",
            "186/186 - 3s - loss: 0.7552 - accuracy: 0.6765 - 3s/epoch - 15ms/step\n",
            "744/744 - 104s - loss: 0.8185 - accuracy: 0.6464 - 104s/epoch - 140ms/step\n",
            "186/186 - 3s - loss: 0.7675 - accuracy: 0.6712 - 3s/epoch - 15ms/step\n",
            "Epoch 1/2\n",
            "744/744 - 103s - loss: 0.8267 - accuracy: 0.6504 - 103s/epoch - 139ms/step\n",
            "Epoch 2/2\n",
            "744/744 - 101s - loss: 0.6804 - accuracy: 0.7139 - 101s/epoch - 136ms/step\n",
            "186/186 - 3s - loss: 0.7677 - accuracy: 0.6885 - 3s/epoch - 15ms/step\n",
            "Epoch 1/2\n",
            "744/744 - 103s - loss: 0.8183 - accuracy: 0.6427 - 103s/epoch - 139ms/step\n",
            "Epoch 2/2\n",
            "744/744 - 99s - loss: 0.6746 - accuracy: 0.7101 - 99s/epoch - 133ms/step\n",
            "186/186 - 3s - loss: 0.7454 - accuracy: 0.6724 - 3s/epoch - 14ms/step\n",
            "Epoch 1/2\n",
            "744/744 - 104s - loss: 0.8223 - accuracy: 0.6473 - 104s/epoch - 140ms/step\n",
            "Epoch 2/2\n",
            "744/744 - 99s - loss: 0.6802 - accuracy: 0.7139 - 99s/epoch - 133ms/step\n",
            "186/186 - 4s - loss: 0.7583 - accuracy: 0.6783 - 4s/epoch - 24ms/step\n",
            "Epoch 1/2\n",
            "744/744 - 102s - loss: 0.8254 - accuracy: 0.6437 - 102s/epoch - 137ms/step\n",
            "Epoch 2/2\n",
            "744/744 - 99s - loss: 0.6748 - accuracy: 0.7139 - 99s/epoch - 132ms/step\n",
            "186/186 - 3s - loss: 0.7467 - accuracy: 0.6830 - 3s/epoch - 15ms/step\n",
            "Epoch 1/2\n",
            "744/744 - 102s - loss: 0.8176 - accuracy: 0.6436 - 102s/epoch - 137ms/step\n",
            "Epoch 2/2\n",
            "744/744 - 98s - loss: 0.6675 - accuracy: 0.7186 - 98s/epoch - 132ms/step\n",
            "186/186 - 3s - loss: 0.7822 - accuracy: 0.6679 - 3s/epoch - 14ms/step\n",
            "372/372 - 58s - loss: 0.8363 - accuracy: 0.6457 - 58s/epoch - 156ms/step\n",
            "93/93 - 2s - loss: 0.7821 - accuracy: 0.6751 - 2s/epoch - 20ms/step\n",
            "372/372 - 60s - loss: 0.8313 - accuracy: 0.6451 - 60s/epoch - 162ms/step\n",
            "93/93 - 2s - loss: 0.7537 - accuracy: 0.6740 - 2s/epoch - 24ms/step\n",
            "372/372 - 62s - loss: 0.8323 - accuracy: 0.6407 - 62s/epoch - 166ms/step\n",
            "93/93 - 2s - loss: 0.7546 - accuracy: 0.6902 - 2s/epoch - 21ms/step\n",
            "372/372 - 60s - loss: 0.8351 - accuracy: 0.6399 - 60s/epoch - 162ms/step\n",
            "93/93 - 2s - loss: 0.7620 - accuracy: 0.6679 - 2s/epoch - 21ms/step\n",
            "372/372 - 59s - loss: 0.8299 - accuracy: 0.6447 - 59s/epoch - 160ms/step\n",
            "93/93 - 2s - loss: 0.7785 - accuracy: 0.6604 - 2s/epoch - 20ms/step\n",
            "Epoch 1/2\n",
            "372/372 - 59s - loss: 0.8354 - accuracy: 0.6414 - 59s/epoch - 159ms/step\n",
            "Epoch 2/2\n",
            "372/372 - 55s - loss: 0.6815 - accuracy: 0.7104 - 55s/epoch - 147ms/step\n",
            "93/93 - 2s - loss: 0.7310 - accuracy: 0.6740 - 2s/epoch - 19ms/step\n",
            "Epoch 1/2\n",
            "372/372 - 58s - loss: 0.8307 - accuracy: 0.6384 - 58s/epoch - 156ms/step\n",
            "Epoch 2/2\n",
            "372/372 - 55s - loss: 0.6830 - accuracy: 0.7140 - 55s/epoch - 149ms/step\n",
            "93/93 - 2s - loss: 0.7280 - accuracy: 0.6923 - 2s/epoch - 19ms/step\n",
            "Epoch 1/2\n",
            "372/372 - 59s - loss: 0.8267 - accuracy: 0.6476 - 59s/epoch - 158ms/step\n",
            "Epoch 2/2\n",
            "372/372 - 55s - loss: 0.6776 - accuracy: 0.7125 - 55s/epoch - 148ms/step\n",
            "93/93 - 3s - loss: 0.7528 - accuracy: 0.6842 - 3s/epoch - 33ms/step\n",
            "Epoch 1/2\n",
            "372/372 - 58s - loss: 0.8360 - accuracy: 0.6432 - 58s/epoch - 157ms/step\n",
            "Epoch 2/2\n",
            "372/372 - 55s - loss: 0.6799 - accuracy: 0.7119 - 55s/epoch - 147ms/step\n",
            "93/93 - 2s - loss: 0.7390 - accuracy: 0.6787 - 2s/epoch - 20ms/step\n",
            "Epoch 1/2\n",
            "372/372 - 59s - loss: 0.8336 - accuracy: 0.6410 - 59s/epoch - 159ms/step\n",
            "Epoch 2/2\n",
            "372/372 - 54s - loss: 0.6698 - accuracy: 0.7189 - 54s/epoch - 144ms/step\n",
            "93/93 - 2s - loss: 0.7805 - accuracy: 0.6749 - 2s/epoch - 20ms/step\n",
            "186/186 - 39s - loss: 0.8414 - accuracy: 0.6395 - 39s/epoch - 208ms/step\n",
            "47/47 - 2s - loss: 0.7664 - accuracy: 0.6638 - 2s/epoch - 33ms/step\n",
            "186/186 - 38s - loss: 0.8411 - accuracy: 0.6357 - 38s/epoch - 204ms/step\n",
            "47/47 - 1s - loss: 0.7856 - accuracy: 0.6697 - 1s/epoch - 29ms/step\n",
            "186/186 - 38s - loss: 0.8400 - accuracy: 0.6349 - 38s/epoch - 206ms/step\n",
            "47/47 - 1s - loss: 0.7640 - accuracy: 0.6810 - 1s/epoch - 28ms/step\n",
            "186/186 - 39s - loss: 0.8496 - accuracy: 0.6374 - 39s/epoch - 209ms/step\n",
            "47/47 - 1s - loss: 0.7559 - accuracy: 0.6733 - 1s/epoch - 30ms/step\n",
            "186/186 - 36s - loss: 0.8521 - accuracy: 0.6308 - 36s/epoch - 196ms/step\n",
            "47/47 - 1s - loss: 0.7824 - accuracy: 0.6631 - 1s/epoch - 28ms/step\n",
            "Epoch 1/2\n",
            "186/186 - 38s - loss: 0.8545 - accuracy: 0.6359 - 38s/epoch - 204ms/step\n",
            "Epoch 2/2\n",
            "186/186 - 33s - loss: 0.6910 - accuracy: 0.7011 - 33s/epoch - 177ms/step\n",
            "47/47 - 2s - loss: 0.7376 - accuracy: 0.6794 - 2s/epoch - 35ms/step\n",
            "Epoch 1/2\n",
            "186/186 - 37s - loss: 0.8379 - accuracy: 0.6410 - 37s/epoch - 201ms/step\n",
            "Epoch 2/2\n",
            "186/186 - 35s - loss: 0.6960 - accuracy: 0.7024 - 35s/epoch - 188ms/step\n",
            "47/47 - 1s - loss: 0.7402 - accuracy: 0.6794 - 1s/epoch - 30ms/step\n",
            "Epoch 1/2\n",
            "186/186 - 37s - loss: 0.8417 - accuracy: 0.6377 - 37s/epoch - 199ms/step\n",
            "Epoch 2/2\n",
            "186/186 - 34s - loss: 0.6891 - accuracy: 0.7053 - 34s/epoch - 184ms/step\n",
            "47/47 - 1s - loss: 0.7421 - accuracy: 0.6837 - 1s/epoch - 28ms/step\n",
            "Epoch 1/2\n",
            "186/186 - 38s - loss: 0.8535 - accuracy: 0.6289 - 38s/epoch - 203ms/step\n",
            "Epoch 2/2\n",
            "186/186 - 33s - loss: 0.6904 - accuracy: 0.7053 - 33s/epoch - 176ms/step\n",
            "47/47 - 1s - loss: 0.7478 - accuracy: 0.6846 - 1s/epoch - 28ms/step\n",
            "Epoch 1/2\n",
            "186/186 - 37s - loss: 0.8399 - accuracy: 0.6373 - 37s/epoch - 201ms/step\n",
            "Epoch 2/2\n",
            "186/186 - 33s - loss: 0.6701 - accuracy: 0.7154 - 33s/epoch - 176ms/step\n",
            "47/47 - 1s - loss: 0.7817 - accuracy: 0.6787 - 1s/epoch - 29ms/step\n",
            "Epoch 1/2\n",
            "233/233 - 47s - loss: 0.8280 - accuracy: 0.6453 - 47s/epoch - 200ms/step\n",
            "Epoch 2/2\n",
            "233/233 - 42s - loss: 0.6778 - accuracy: 0.7130 - 42s/epoch - 180ms/step\n",
            "Best: 0.681158 using {'batch_size': 40, 'epochs': 2}\n"
          ]
        }
      ]
    }
  ]
}